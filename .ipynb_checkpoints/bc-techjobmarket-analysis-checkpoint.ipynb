{
 "cells": [
  {
   "cell_type": "code",
   "execution_count": 2,
   "id": "29eb36d3",
   "metadata": {},
   "outputs": [],
   "source": [
    "from requests_html import HTMLSession"
   ]
  },
  {
   "cell_type": "code",
   "execution_count": 3,
   "id": "59d83c2a",
   "metadata": {},
   "outputs": [],
   "source": [
    "def get_data(session, url):\n",
    "    r = s.get(url)\n",
    "    return"
   ]
  },
  {
   "cell_type": "code",
   "execution_count": 4,
   "id": "8d874afc",
   "metadata": {},
   "outputs": [],
   "source": [
    "def parse_html(html_link):\n",
    "   pass "
   ]
  },
  {
   "cell_type": "code",
   "execution_count": 5,
   "id": "f856a1ba",
   "metadata": {},
   "outputs": [],
   "source": [
    "def main():\n",
    "    pass"
   ]
  },
  {
   "cell_type": "code",
   "execution_count": null,
   "id": "df27c053",
   "metadata": {},
   "outputs": [],
   "source": []
  }
 ],
 "metadata": {
  "kernelspec": {
   "display_name": "Python 3 (ipykernel)",
   "language": "python",
   "name": "python3"
  },
  "language_info": {
   "codemirror_mode": {
    "name": "ipython",
    "version": 3
   },
   "file_extension": ".py",
   "mimetype": "text/x-python",
   "name": "python",
   "nbconvert_exporter": "python",
   "pygments_lexer": "ipython3",
   "version": "3.9.7"
  }
 },
 "nbformat": 4,
 "nbformat_minor": 5
}
