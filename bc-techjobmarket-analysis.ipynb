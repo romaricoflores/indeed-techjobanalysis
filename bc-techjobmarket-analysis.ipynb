{
 "cells": [
  {
   "cell_type": "code",
   "execution_count": 2,
   "id": "29eb36d3",
   "metadata": {},
   "outputs": [],
   "source": [
    "from requests_html import HTMLSession"
   ]
  },
  {
   "cell_type": "code",
   "execution_count": 2,
   "id": "59d83c2a",
   "metadata": {},
   "outputs": [],
   "source": [
    "def get_data(session, url):\n",
    "    r = s.get(url)\n",
    "    return"
   ]
  },
  {
   "cell_type": "code",
   "execution_count": 3,
   "id": "8d874afc",
   "metadata": {},
   "outputs": [],
   "source": [
    "def parse_html(html_link):\n",
    "   pass "
   ]
  },
  {
   "cell_type": "code",
   "execution_count": 4,
   "id": "f856a1ba",
   "metadata": {},
   "outputs": [],
   "source": [
    "def main():\n",
    "    session = HTMLSession()\n",
    "    url = 'https://ca.indeed.com/jobs?q=information+technology&l=British+Columbia'\n",
    "    "
   ]
  },
  {
   "cell_type": "code",
   "execution_count": 5,
   "id": "df27c053",
   "metadata": {},
   "outputs": [],
   "source": [
    "if __name__ == '__main__':\n",
    "    main()"
   ]
  },
  {
   "cell_type": "code",
   "execution_count": null,
   "id": "340fade3",
   "metadata": {},
   "outputs": [],
   "source": []
  }
 ],
 "metadata": {
  "kernelspec": {
   "display_name": "Python 3.10.4 64-bit",
   "language": "python",
   "name": "python3"
  },
  "language_info": {
   "codemirror_mode": {
    "name": "ipython",
    "version": 3
   },
   "file_extension": ".py",
   "mimetype": "text/x-python",
   "name": "python",
   "nbconvert_exporter": "python",
   "pygments_lexer": "ipython3",
   "version": "3.10.4"
  },
  "vscode": {
   "interpreter": {
    "hash": "afb734500600fd355917ca529030176ea0ca205570884b88f2f6f7d791fd3fbe"
   }
  }
 },
 "nbformat": 4,
 "nbformat_minor": 5
}
